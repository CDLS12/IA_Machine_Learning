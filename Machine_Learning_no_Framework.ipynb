{
  "nbformat": 4,
  "nbformat_minor": 0,
  "metadata": {
    "colab": {
      "provenance": [],
      "authorship_tag": "ABX9TyMwCLC0bF1RGY3x2zfKaBpn",
      "include_colab_link": true
    },
    "kernelspec": {
      "name": "python3",
      "display_name": "Python 3"
    },
    "language_info": {
      "name": "python"
    }
  },
  "cells": [
    {
      "cell_type": "markdown",
      "metadata": {
        "id": "view-in-github",
        "colab_type": "text"
      },
      "source": [
        "<a href=\"https://colab.research.google.com/github/CDLS12/IA_Machine_Learning/blob/main/Machine_Learning_no_Framework.ipynb\" target=\"_parent\"><img src=\"https://colab.research.google.com/assets/colab-badge.svg\" alt=\"Open In Colab\"/></a>"
      ]
    },
    {
      "cell_type": "markdown",
      "source": [
        "# **Momento de Retroalimentación: Módulo 2 Implementación de una técnica de aprendizaje máquina sin el uso de un framework. (Portafolio Implementación)**\n",
        "\n",
        "Alumno: Carlos David Lozano Sanguino\n",
        "\n",
        "Matricula: A01275316"
      ],
      "metadata": {
        "id": "cXhGkdgjMiGB"
      }
    },
    {
      "cell_type": "markdown",
      "source": [
        "Salary Prediction Data: Para este portafolio se implementara la tecnica machine learning linear regression de manera manual para la prediccion de los salarios de una persona teniendo en cuenta la cantidad de años que ha trabajado por lo tanto este dataset se dividira entre dos columnas que sera Años de Experiencia y la columna o datos a predecir denominada como Salario.\n",
        "\n",
        "Se utilizara solo y exclusivamente la libreria pandas para demostar los datos como parte del entregable y la implementacion del algoritmo sera sin framework"
      ],
      "metadata": {
        "id": "Tbx_TS6fM--K"
      }
    },
    {
      "cell_type": "code",
      "execution_count": 202,
      "metadata": {
        "colab": {
          "base_uri": "https://localhost:8080/",
          "height": 990
        },
        "id": "b26iSmU8agI9",
        "outputId": "df623da9-fee2-45d7-933f-bf0717a92158"
      },
      "outputs": [
        {
          "output_type": "execute_result",
          "data": {
            "text/plain": [
              "    YearsExperience  Salary\n",
              "0               1.1   39343\n",
              "1               1.3   46205\n",
              "2               1.5   37731\n",
              "3               2.0   43525\n",
              "4               2.2   39891\n",
              "5               2.9   56642\n",
              "6               3.0   60150\n",
              "7               3.2   54445\n",
              "8               3.2   64445\n",
              "9               3.7   57189\n",
              "10              3.9   63218\n",
              "11              4.0   55794\n",
              "12              4.0   56957\n",
              "13              4.1   57081\n",
              "14              4.5   61111\n",
              "15              4.9   67938\n",
              "16              5.1   66029\n",
              "17              5.3   83088\n",
              "18              5.9   81363\n",
              "19              6.0   93940\n",
              "20              6.8   91738\n",
              "21              7.1   98273\n",
              "22              7.9  101302\n",
              "23              8.2  113812\n",
              "24              8.7  109431\n",
              "25              9.0  105582\n",
              "26              9.5  116969\n",
              "27              9.6  112635\n",
              "28             10.3  122391\n",
              "29             10.5  121872"
            ],
            "text/html": [
              "\n",
              "  <div id=\"df-f86b4215-c1d9-4d14-96e6-35eadb399493\" class=\"colab-df-container\">\n",
              "    <div>\n",
              "<style scoped>\n",
              "    .dataframe tbody tr th:only-of-type {\n",
              "        vertical-align: middle;\n",
              "    }\n",
              "\n",
              "    .dataframe tbody tr th {\n",
              "        vertical-align: top;\n",
              "    }\n",
              "\n",
              "    .dataframe thead th {\n",
              "        text-align: right;\n",
              "    }\n",
              "</style>\n",
              "<table border=\"1\" class=\"dataframe\">\n",
              "  <thead>\n",
              "    <tr style=\"text-align: right;\">\n",
              "      <th></th>\n",
              "      <th>YearsExperience</th>\n",
              "      <th>Salary</th>\n",
              "    </tr>\n",
              "  </thead>\n",
              "  <tbody>\n",
              "    <tr>\n",
              "      <th>0</th>\n",
              "      <td>1.1</td>\n",
              "      <td>39343</td>\n",
              "    </tr>\n",
              "    <tr>\n",
              "      <th>1</th>\n",
              "      <td>1.3</td>\n",
              "      <td>46205</td>\n",
              "    </tr>\n",
              "    <tr>\n",
              "      <th>2</th>\n",
              "      <td>1.5</td>\n",
              "      <td>37731</td>\n",
              "    </tr>\n",
              "    <tr>\n",
              "      <th>3</th>\n",
              "      <td>2.0</td>\n",
              "      <td>43525</td>\n",
              "    </tr>\n",
              "    <tr>\n",
              "      <th>4</th>\n",
              "      <td>2.2</td>\n",
              "      <td>39891</td>\n",
              "    </tr>\n",
              "    <tr>\n",
              "      <th>5</th>\n",
              "      <td>2.9</td>\n",
              "      <td>56642</td>\n",
              "    </tr>\n",
              "    <tr>\n",
              "      <th>6</th>\n",
              "      <td>3.0</td>\n",
              "      <td>60150</td>\n",
              "    </tr>\n",
              "    <tr>\n",
              "      <th>7</th>\n",
              "      <td>3.2</td>\n",
              "      <td>54445</td>\n",
              "    </tr>\n",
              "    <tr>\n",
              "      <th>8</th>\n",
              "      <td>3.2</td>\n",
              "      <td>64445</td>\n",
              "    </tr>\n",
              "    <tr>\n",
              "      <th>9</th>\n",
              "      <td>3.7</td>\n",
              "      <td>57189</td>\n",
              "    </tr>\n",
              "    <tr>\n",
              "      <th>10</th>\n",
              "      <td>3.9</td>\n",
              "      <td>63218</td>\n",
              "    </tr>\n",
              "    <tr>\n",
              "      <th>11</th>\n",
              "      <td>4.0</td>\n",
              "      <td>55794</td>\n",
              "    </tr>\n",
              "    <tr>\n",
              "      <th>12</th>\n",
              "      <td>4.0</td>\n",
              "      <td>56957</td>\n",
              "    </tr>\n",
              "    <tr>\n",
              "      <th>13</th>\n",
              "      <td>4.1</td>\n",
              "      <td>57081</td>\n",
              "    </tr>\n",
              "    <tr>\n",
              "      <th>14</th>\n",
              "      <td>4.5</td>\n",
              "      <td>61111</td>\n",
              "    </tr>\n",
              "    <tr>\n",
              "      <th>15</th>\n",
              "      <td>4.9</td>\n",
              "      <td>67938</td>\n",
              "    </tr>\n",
              "    <tr>\n",
              "      <th>16</th>\n",
              "      <td>5.1</td>\n",
              "      <td>66029</td>\n",
              "    </tr>\n",
              "    <tr>\n",
              "      <th>17</th>\n",
              "      <td>5.3</td>\n",
              "      <td>83088</td>\n",
              "    </tr>\n",
              "    <tr>\n",
              "      <th>18</th>\n",
              "      <td>5.9</td>\n",
              "      <td>81363</td>\n",
              "    </tr>\n",
              "    <tr>\n",
              "      <th>19</th>\n",
              "      <td>6.0</td>\n",
              "      <td>93940</td>\n",
              "    </tr>\n",
              "    <tr>\n",
              "      <th>20</th>\n",
              "      <td>6.8</td>\n",
              "      <td>91738</td>\n",
              "    </tr>\n",
              "    <tr>\n",
              "      <th>21</th>\n",
              "      <td>7.1</td>\n",
              "      <td>98273</td>\n",
              "    </tr>\n",
              "    <tr>\n",
              "      <th>22</th>\n",
              "      <td>7.9</td>\n",
              "      <td>101302</td>\n",
              "    </tr>\n",
              "    <tr>\n",
              "      <th>23</th>\n",
              "      <td>8.2</td>\n",
              "      <td>113812</td>\n",
              "    </tr>\n",
              "    <tr>\n",
              "      <th>24</th>\n",
              "      <td>8.7</td>\n",
              "      <td>109431</td>\n",
              "    </tr>\n",
              "    <tr>\n",
              "      <th>25</th>\n",
              "      <td>9.0</td>\n",
              "      <td>105582</td>\n",
              "    </tr>\n",
              "    <tr>\n",
              "      <th>26</th>\n",
              "      <td>9.5</td>\n",
              "      <td>116969</td>\n",
              "    </tr>\n",
              "    <tr>\n",
              "      <th>27</th>\n",
              "      <td>9.6</td>\n",
              "      <td>112635</td>\n",
              "    </tr>\n",
              "    <tr>\n",
              "      <th>28</th>\n",
              "      <td>10.3</td>\n",
              "      <td>122391</td>\n",
              "    </tr>\n",
              "    <tr>\n",
              "      <th>29</th>\n",
              "      <td>10.5</td>\n",
              "      <td>121872</td>\n",
              "    </tr>\n",
              "  </tbody>\n",
              "</table>\n",
              "</div>\n",
              "    <div class=\"colab-df-buttons\">\n",
              "\n",
              "  <div class=\"colab-df-container\">\n",
              "    <button class=\"colab-df-convert\" onclick=\"convertToInteractive('df-f86b4215-c1d9-4d14-96e6-35eadb399493')\"\n",
              "            title=\"Convert this dataframe to an interactive table.\"\n",
              "            style=\"display:none;\">\n",
              "\n",
              "  <svg xmlns=\"http://www.w3.org/2000/svg\" height=\"24px\" viewBox=\"0 -960 960 960\">\n",
              "    <path d=\"M120-120v-720h720v720H120Zm60-500h600v-160H180v160Zm220 220h160v-160H400v160Zm0 220h160v-160H400v160ZM180-400h160v-160H180v160Zm440 0h160v-160H620v160ZM180-180h160v-160H180v160Zm440 0h160v-160H620v160Z\"/>\n",
              "  </svg>\n",
              "    </button>\n",
              "\n",
              "  <style>\n",
              "    .colab-df-container {\n",
              "      display:flex;\n",
              "      gap: 12px;\n",
              "    }\n",
              "\n",
              "    .colab-df-convert {\n",
              "      background-color: #E8F0FE;\n",
              "      border: none;\n",
              "      border-radius: 50%;\n",
              "      cursor: pointer;\n",
              "      display: none;\n",
              "      fill: #1967D2;\n",
              "      height: 32px;\n",
              "      padding: 0 0 0 0;\n",
              "      width: 32px;\n",
              "    }\n",
              "\n",
              "    .colab-df-convert:hover {\n",
              "      background-color: #E2EBFA;\n",
              "      box-shadow: 0px 1px 2px rgba(60, 64, 67, 0.3), 0px 1px 3px 1px rgba(60, 64, 67, 0.15);\n",
              "      fill: #174EA6;\n",
              "    }\n",
              "\n",
              "    .colab-df-buttons div {\n",
              "      margin-bottom: 4px;\n",
              "    }\n",
              "\n",
              "    [theme=dark] .colab-df-convert {\n",
              "      background-color: #3B4455;\n",
              "      fill: #D2E3FC;\n",
              "    }\n",
              "\n",
              "    [theme=dark] .colab-df-convert:hover {\n",
              "      background-color: #434B5C;\n",
              "      box-shadow: 0px 1px 3px 1px rgba(0, 0, 0, 0.15);\n",
              "      filter: drop-shadow(0px 1px 2px rgba(0, 0, 0, 0.3));\n",
              "      fill: #FFFFFF;\n",
              "    }\n",
              "  </style>\n",
              "\n",
              "    <script>\n",
              "      const buttonEl =\n",
              "        document.querySelector('#df-f86b4215-c1d9-4d14-96e6-35eadb399493 button.colab-df-convert');\n",
              "      buttonEl.style.display =\n",
              "        google.colab.kernel.accessAllowed ? 'block' : 'none';\n",
              "\n",
              "      async function convertToInteractive(key) {\n",
              "        const element = document.querySelector('#df-f86b4215-c1d9-4d14-96e6-35eadb399493');\n",
              "        const dataTable =\n",
              "          await google.colab.kernel.invokeFunction('convertToInteractive',\n",
              "                                                    [key], {});\n",
              "        if (!dataTable) return;\n",
              "\n",
              "        const docLinkHtml = 'Like what you see? Visit the ' +\n",
              "          '<a target=\"_blank\" href=https://colab.research.google.com/notebooks/data_table.ipynb>data table notebook</a>'\n",
              "          + ' to learn more about interactive tables.';\n",
              "        element.innerHTML = '';\n",
              "        dataTable['output_type'] = 'display_data';\n",
              "        await google.colab.output.renderOutput(dataTable, element);\n",
              "        const docLink = document.createElement('div');\n",
              "        docLink.innerHTML = docLinkHtml;\n",
              "        element.appendChild(docLink);\n",
              "      }\n",
              "    </script>\n",
              "  </div>\n",
              "\n",
              "\n",
              "<div id=\"df-964ee2ac-a1ef-4f02-bc3d-e0e7894161ed\">\n",
              "  <button class=\"colab-df-quickchart\" onclick=\"quickchart('df-964ee2ac-a1ef-4f02-bc3d-e0e7894161ed')\"\n",
              "            title=\"Suggest charts.\"\n",
              "            style=\"display:none;\">\n",
              "\n",
              "<svg xmlns=\"http://www.w3.org/2000/svg\" height=\"24px\"viewBox=\"0 0 24 24\"\n",
              "     width=\"24px\">\n",
              "    <g>\n",
              "        <path d=\"M19 3H5c-1.1 0-2 .9-2 2v14c0 1.1.9 2 2 2h14c1.1 0 2-.9 2-2V5c0-1.1-.9-2-2-2zM9 17H7v-7h2v7zm4 0h-2V7h2v10zm4 0h-2v-4h2v4z\"/>\n",
              "    </g>\n",
              "</svg>\n",
              "  </button>\n",
              "\n",
              "<style>\n",
              "  .colab-df-quickchart {\n",
              "    background-color: #E8F0FE;\n",
              "    border: none;\n",
              "    border-radius: 50%;\n",
              "    cursor: pointer;\n",
              "    display: none;\n",
              "    fill: #1967D2;\n",
              "    height: 32px;\n",
              "    padding: 0 0 0 0;\n",
              "    width: 32px;\n",
              "  }\n",
              "\n",
              "  .colab-df-quickchart:hover {\n",
              "    background-color: #E2EBFA;\n",
              "    box-shadow: 0px 1px 2px rgba(60, 64, 67, 0.3), 0px 1px 3px 1px rgba(60, 64, 67, 0.15);\n",
              "    fill: #174EA6;\n",
              "  }\n",
              "\n",
              "  [theme=dark] .colab-df-quickchart {\n",
              "    background-color: #3B4455;\n",
              "    fill: #D2E3FC;\n",
              "  }\n",
              "\n",
              "  [theme=dark] .colab-df-quickchart:hover {\n",
              "    background-color: #434B5C;\n",
              "    box-shadow: 0px 1px 3px 1px rgba(0, 0, 0, 0.15);\n",
              "    filter: drop-shadow(0px 1px 2px rgba(0, 0, 0, 0.3));\n",
              "    fill: #FFFFFF;\n",
              "  }\n",
              "</style>\n",
              "\n",
              "  <script>\n",
              "    async function quickchart(key) {\n",
              "      const charts = await google.colab.kernel.invokeFunction(\n",
              "          'suggestCharts', [key], {});\n",
              "    }\n",
              "    (() => {\n",
              "      let quickchartButtonEl =\n",
              "        document.querySelector('#df-964ee2ac-a1ef-4f02-bc3d-e0e7894161ed button');\n",
              "      quickchartButtonEl.style.display =\n",
              "        google.colab.kernel.accessAllowed ? 'block' : 'none';\n",
              "    })();\n",
              "  </script>\n",
              "</div>\n",
              "    </div>\n",
              "  </div>\n"
            ]
          },
          "metadata": {},
          "execution_count": 202
        }
      ],
      "source": [
        "import pandas as pd\n",
        "import numpy as np\n",
        "Salary = pd.read_csv(\"Salary_Data.csv\")\n",
        "Salary"
      ]
    },
    {
      "cell_type": "markdown",
      "source": [
        "Para empezar tomaremos los valores de cada columna para pasarlos a una lista y definir los valores inciales de los hiper-parametros:"
      ],
      "metadata": {
        "id": "eYbCYkvuTw95"
      }
    },
    {
      "cell_type": "code",
      "source": [
        "# Crear lista con los valores de la variable independiente (YearsExperience)\n",
        "Experience_Time = [ 1.1,  1.3,  1.5,  2,  2.2,  2.9,  3,  3.2,  3.2,  3.7,  3.9,\n",
        "4,  4,  4.1,  4.5,  4.9,  5.1,  5.3,  5.9,  6. ,  6.8,  7.1, 7.9,  8.2,  8.7,  9,  9.5,  9.6, 10.3, 10.5]\n",
        "# Crear lista con los valores de la variable dependiente (Salary)\n",
        "Salary = [ 39343,  46205,  37731,  43525,  39891,  56642,  60150,  54445,\n",
        "        64445,  57189,  63218,  55794,  56957,  57081,  61111,  67938,\n",
        "        66029,  83088,  81363,  93940,  91738,  98273, 101302, 113812,\n",
        "       109431, 105582, 116969, 112635, 122391, 121872]"
      ],
      "metadata": {
        "id": "vonjiq_YUGG8"
      },
      "execution_count": 231,
      "outputs": []
    },
    {
      "cell_type": "markdown",
      "source": [
        "FUNCION HIPOTESIS\n",
        "\n",
        "El siguiente paso sera definir la funcion hipotesis que nos dara el salario dependiendo del valor que le demos de años de experiencia, mas adelante se buscara una mejor funcion hipotesis para mejorar la prediccion y sea asi mas exacta a la original"
      ],
      "metadata": {
        "id": "LnVhKBo-VkVt"
      }
    },
    {
      "cell_type": "code",
      "source": [
        "# Se usa función lambda para la función de hipótesis\n",
        "h = lambda x: theta0 + theta1*x\n",
        "print(len(Experience_Time))\n",
        "print(len(Salary))"
      ],
      "metadata": {
        "colab": {
          "base_uri": "https://localhost:8080/"
        },
        "id": "dNylb3CYWig2",
        "outputId": "3260091c-63fe-464d-8db7-4a085dc543ae"
      },
      "execution_count": 232,
      "outputs": [
        {
          "output_type": "stream",
          "name": "stdout",
          "text": [
            "30\n",
            "30\n"
          ]
        }
      ]
    },
    {
      "cell_type": "markdown",
      "source": [
        "FUNCION DE COSTO\n",
        "\n",
        "Teniendo definida nuestra funcion hipotesis el siguiente paso es definir nuesta funcion de costo que nos ayudara a medir o calificar la prediccion de nuesta funcion de hipotesis y mejorarlo cada vez mas aplicando Mean Squared Error minimizando el error de la funcion con la siguiente formula.\n",
        "\n",
        "\n",
        "![image.png](data:image/png;base64,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)\n",
        "\n",
        "$\\frac{∂J_{θ}}{∂θ_0} = \\frac{1}{n}\\sum_{i=1}^{n}(h_θ(x_i)-y_i)$\n",
        "\n",
        "$\\frac{∂J_{θ}}{∂θ_1} = \\frac{1}{n}\\sum_{i=1}^{n}(h_θ(x_i)-y_i)x_i$"
      ],
      "metadata": {
        "id": "9rUmws4FXLh5"
      }
    },
    {
      "cell_type": "markdown",
      "source": [
        "En la siguiente parte del codigo se implementara la funcion de costo con las derivadas de theta0 y  theta1"
      ],
      "metadata": {
        "id": "v88KFCeh-Z_J"
      }
    },
    {
      "cell_type": "code",
      "source": [
        "def linear_regression(X, y, learning_rate, iterations):\n",
        "    n = len(y)  # Número de ejemplos\n",
        "    theta0 = 0\n",
        "    theta1 = 0\n",
        "\n",
        "    for _ in range(iterations):\n",
        "        dtheta0 = 0\n",
        "        dtheta1 = 0\n",
        "\n",
        "        for i in range(n):\n",
        "            prediction = theta0 + theta1 * X[i]  # Predicción del modelo(Funcion Hipotesis)\n",
        "            error = prediction - y[i]  # Error de predicción(Derivada de Theta0)\n",
        "            dtheta0 += error\n",
        "            dtheta1 += error * X[i] # Error de predicción(Derivada de Theta1)\n",
        "\n",
        "        dtheta0 /= n  #Tras haber hecho la sumatoria se divide entre el numero total de ejemplos\n",
        "        dtheta1 /= n\n",
        "\n",
        "        theta0 -= learning_rate * dtheta0  #Se aplica el algoritmos gradiente descendiente\n",
        "        theta1 -= learning_rate * dtheta1\n",
        "\n",
        "    return theta0, theta1\n",
        "# Hiperparámetros\n",
        "learning_rate = 0.001\n",
        "\n",
        "\n",
        "# Aplicar regresión lineal\n",
        "theta0, theta1 = linear_regression(Experience_Time, Salary , learning_rate, 100000)\n",
        "\n",
        "# Mostrar los resultados\n",
        "print(\"Theta0:\", theta0)\n",
        "print(\"Theta1:\", theta1)\n"
      ],
      "metadata": {
        "colab": {
          "base_uri": "https://localhost:8080/"
        },
        "id": "CgJmXJxEyCho",
        "outputId": "cfc8fa1b-cb76-48c8-d1ea-67ecafd13edd"
      },
      "execution_count": 240,
      "outputs": [
        {
          "output_type": "stream",
          "name": "stdout",
          "text": [
            "Theta0: 25792.20018316535\n",
            "Theta1: 9449.962323755708\n"
          ]
        }
      ]
    },
    {
      "cell_type": "markdown",
      "source": [
        "En el anterior codigo se implemento una funcion que entrenara a la funcion hipotesis para mejorar y cambiar los valores de theta en cada iteracion\n",
        "que en este caso se definio un total de 100000 para entrenar al modelo suficientemente bien y asi saque valores muy aproximados a los reales\n",
        "el paso siguiente a eso fue aplicar las derivadas con un for que simulara la sumatoria para finalmente dividir todo entre la cantidad de ejemplos que tiene\n",
        "el dataset y actualizar las thetas con el gradiente descendente multiplicando los valores que se sacaron de los deltas por el learning rate que se definio como 0.001 y restarlo al valor actual de theta hasta sacar la mejor aproximacion de la funcion hipotesis."
      ],
      "metadata": {
        "id": "2fEfI2ElAoNW"
      }
    },
    {
      "cell_type": "markdown",
      "source": [
        "Tras haber entrenado el modelo la n cantidad de iteraciones aplicamos la funcion hipotesis y tomamos varios valores para probar si el modelo es preciso:"
      ],
      "metadata": {
        "id": "J8iSswMYArcw"
      }
    },
    {
      "cell_type": "code",
      "source": [
        "#Datos Reales = [2,37731]\n",
        "h(2)"
      ],
      "metadata": {
        "colab": {
          "base_uri": "https://localhost:8080/"
        },
        "id": "9V7P0nWAA8fE",
        "outputId": "3a9f2440-547a-468a-a305-941ec3d8ab17"
      },
      "execution_count": 253,
      "outputs": [
        {
          "output_type": "execute_result",
          "data": {
            "text/plain": [
              "44692.12483067677"
            ]
          },
          "metadata": {},
          "execution_count": 253
        }
      ]
    },
    {
      "cell_type": "code",
      "source": [
        "#Datos Reales = [6.8,91738]\n",
        "h(6.8)"
      ],
      "metadata": {
        "colab": {
          "base_uri": "https://localhost:8080/"
        },
        "id": "pd3W0LKGBnKJ",
        "outputId": "331512e2-cb24-44b2-8b34-34ddffa3a65f"
      },
      "execution_count": 254,
      "outputs": [
        {
          "output_type": "execute_result",
          "data": {
            "text/plain": [
              "90051.94398470416"
            ]
          },
          "metadata": {},
          "execution_count": 254
        }
      ]
    },
    {
      "cell_type": "code",
      "source": [
        "#Datos Reales = [9,105582]\n",
        "h(9)"
      ],
      "metadata": {
        "colab": {
          "base_uri": "https://localhost:8080/"
        },
        "id": "mF7LCLeYB5qa",
        "outputId": "79768b1f-7481-4447-88e1-e1b02fb5a481"
      },
      "execution_count": 256,
      "outputs": [
        {
          "output_type": "execute_result",
          "data": {
            "text/plain": [
              "110841.86109696672"
            ]
          },
          "metadata": {},
          "execution_count": 256
        }
      ]
    },
    {
      "cell_type": "code",
      "source": [
        "#Datos Reales = [10.3,122391]\n",
        "h(10.3)"
      ],
      "metadata": {
        "colab": {
          "base_uri": "https://localhost:8080/"
        },
        "id": "S1FL45ftCZlQ",
        "outputId": "2406d0c0-30fe-49d5-8f25-d16d92da2b40"
      },
      "execution_count": 257,
      "outputs": [
        {
          "output_type": "execute_result",
          "data": {
            "text/plain": [
              "123126.81211784914"
            ]
          },
          "metadata": {},
          "execution_count": 257
        }
      ]
    },
    {
      "cell_type": "markdown",
      "source": [
        "Podemos comprobar que el modelo aunque bien no es exacto se aproxima lo suficiente al valor original dado que en el dataset original los salarios no siguen una tendencia continua o lineal por lo tanto no se saca 100% exacto pero podemos concluir que el modelo es exacto y el error varia solo 1000 de valor o dinero en cuanto al salario."
      ],
      "metadata": {
        "id": "nMBOIwtcEOyh"
      }
    },
    {
      "cell_type": "markdown",
      "source": [
        "# **Visualizacion de los datos**"
      ],
      "metadata": {
        "id": "9wTmxpXX8pt8"
      }
    },
    {
      "cell_type": "code",
      "source": [
        "import matplotlib.pyplot as plt\n",
        "plt.scatter(Experience_Time, Salary, label='Datos reales')\n",
        "plt.plot(Experience_Time, [theta0 + theta1 * x for x in Experience_Time], color='red', label='Regresión lineal')\n",
        "plt.xlabel('Experience_Time')\n",
        "plt.ylabel('Salary')\n",
        "plt.legend()\n",
        "plt.title('Regresión Lineal')\n",
        "plt.show()"
      ],
      "metadata": {
        "colab": {
          "base_uri": "https://localhost:8080/",
          "height": 472
        },
        "id": "2qEydgo_zbaH",
        "outputId": "61b882c6-ea46-43ae-cf7d-ecdd4e2750b2"
      },
      "execution_count": 250,
      "outputs": [
        {
          "output_type": "display_data",
          "data": {
            "text/plain": [
              "<Figure size 640x480 with 1 Axes>"
            ],
            "image/png": "[encoded data removed]"
          },
          "metadata": {}
        }
      ]
    },
    {
      "cell_type": "markdown",
      "source": [
        "Esta visualizacion de los datos nos ayuda a ver como se aproxima la regresion lineal a los valores reales y podemos ver que el modelo sigue el flujo o comportamiento de los datos tocando y aproximandose a los reales existen algunos lejos de la regresion lineal siendo mas outliers pero el resto tienen un minimo error."
      ],
      "metadata": {
        "id": "BwQPGQtjEmc2"
      }
    }
  ]
}